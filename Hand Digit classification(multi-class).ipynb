{
  "nbformat": 4,
  "nbformat_minor": 0,
  "metadata": {
    "colab": {
      "provenance": []
    },
    "kernelspec": {
      "name": "python3",
      "display_name": "Python 3"
    },
    "language_info": {
      "name": "python"
    }
  },
  "cells": [
    {
      "cell_type": "code",
      "execution_count": 2,
      "metadata": {
        "id": "l4o2NXTg_Dy0"
      },
      "outputs": [],
      "source": [
        "import tensorflow\n",
        "from tensorflow import keras\n",
        "from tensorflow.keras import Sequential\n",
        "from tensorflow.keras.layers import Dense,Flatten"
      ]
    },
    {
      "cell_type": "code",
      "source": [
        "(X_train, y_train),(X_test, y_test) = keras.datasets.mnist.load_data()"
      ],
      "metadata": {
        "colab": {
          "base_uri": "https://localhost:8080/"
        },
        "id": "Nz7iHZcz_K9F",
        "outputId": "7a255783-e76c-43bc-f27e-4ea8c3c119ae"
      },
      "execution_count": 3,
      "outputs": [
        {
          "output_type": "stream",
          "name": "stdout",
          "text": [
            "Downloading data from https://storage.googleapis.com/tensorflow/tf-keras-datasets/mnist.npz\n",
            "11490434/11490434 [==============================] - 0s 0us/step\n"
          ]
        }
      ]
    },
    {
      "cell_type": "code",
      "source": [
        "X_train[0].shape"
      ],
      "metadata": {
        "colab": {
          "base_uri": "https://localhost:8080/"
        },
        "id": "iNs2mEZvAEqP",
        "outputId": "7c7cc019-eef5-47dc-a37b-958f1a8c4133"
      },
      "execution_count": 9,
      "outputs": [
        {
          "output_type": "execute_result",
          "data": {
            "text/plain": [
              "(28, 28)"
            ]
          },
          "metadata": {},
          "execution_count": 9
        }
      ]
    },
    {
      "cell_type": "code",
      "source": [
        "X_test.shape"
      ],
      "metadata": {
        "colab": {
          "base_uri": "https://localhost:8080/"
        },
        "id": "QE6NAfdqAJeA",
        "outputId": "803eed98-7f27-4d17-a6fd-ef98e914421a"
      },
      "execution_count": 10,
      "outputs": [
        {
          "output_type": "execute_result",
          "data": {
            "text/plain": [
              "(10000, 28, 28)"
            ]
          },
          "metadata": {},
          "execution_count": 10
        }
      ]
    },
    {
      "cell_type": "code",
      "source": [
        "y_train"
      ],
      "metadata": {
        "colab": {
          "base_uri": "https://localhost:8080/"
        },
        "id": "JPjCUP9KBh6H",
        "outputId": "396d2c33-a0dd-4ea5-98bb-1e404567604d"
      },
      "execution_count": 11,
      "outputs": [
        {
          "output_type": "execute_result",
          "data": {
            "text/plain": [
              "array([5, 0, 4, ..., 5, 6, 8], dtype=uint8)"
            ]
          },
          "metadata": {},
          "execution_count": 11
        }
      ]
    },
    {
      "cell_type": "code",
      "source": [
        "import matplotlib.pyplot as plt\n",
        "plt.imshow(X_train[2])"
      ],
      "metadata": {
        "colab": {
          "base_uri": "https://localhost:8080/",
          "height": 447
        },
        "id": "eYI6jTtjBltw",
        "outputId": "0d1be296-1602-4ff9-8927-61f5cc957467"
      },
      "execution_count": 14,
      "outputs": [
        {
          "output_type": "execute_result",
          "data": {
            "text/plain": [
              "<matplotlib.image.AxesImage at 0x7f258ad504f0>"
            ]
          },
          "metadata": {},
          "execution_count": 14
        },
        {
          "output_type": "display_data",
          "data": {
            "text/plain": [
              "<Figure size 640x480 with 1 Axes>"
            ],
            "image/png": "[encoded data removed]"
          },
          "metadata": {}
        }
      ]
    },
    {
      "cell_type": "markdown",
      "source": [
        "## Now divide each pixel with 255 to get accurate and fast results of `weights` "
      ],
      "metadata": {
        "id": "R0fHy6DvCh6f"
      }
    },
    {
      "cell_type": "code",
      "source": [
        "X_train = X_train/255\n",
        "X_test = X_test/255"
      ],
      "metadata": {
        "id": "JMNjVRVYBwuM"
      },
      "execution_count": 15,
      "outputs": []
    },
    {
      "cell_type": "code",
      "source": [
        "X_train[3]"
      ],
      "metadata": {
        "colab": {
          "base_uri": "https://localhost:8080/"
        },
        "id": "ERoKcRW5CTs7",
        "outputId": "26372765-4b1c-41a9-b8be-cdcbd7dbdf29"
      },
      "execution_count": 17,
      "outputs": [
        {
          "output_type": "execute_result",
          "data": {
            "text/plain": [
              "array([[0.        , 0.        , 0.        , 0.        , 0.        ,\n",
              "        0.        , 0.        , 0.        , 0.        , 0.        ,\n",
              "        0.        , 0.        , 0.        , 0.        , 0.        ,\n",
              "        0.        , 0.        , 0.        , 0.        , 0.        ,\n",
              "        0.        , 0.        , 0.        , 0.        , 0.        ,\n",
              "        0.        , 0.        , 0.        ],\n",
              "       [0.        , 0.        , 0.        , 0.        , 0.        ,\n",
              "        0.        , 0.        , 0.        , 0.        , 0.        ,\n",
              "        0.        , 0.        , 0.        , 0.        , 0.        ,\n",
              "        0.        , 0.        , 0.        , 0.        , 0.        ,\n",
              "        0.        , 0.        , 0.        , 0.        , 0.        ,\n",
              "        0.        , 0.        , 0.        ],\n",
              "       [0.        , 0.        , 0.        , 0.        , 0.        ,\n",
              "        0.        , 0.        , 0.        , 0.        , 0.        ,\n",
              "        0.        , 0.        , 0.        , 0.        , 0.        ,\n",
              "        0.        , 0.        , 0.        , 0.        , 0.        ,\n",
              "        0.        , 0.        , 0.        , 0.        , 0.        ,\n",
              "        0.        , 0.        , 0.        ],\n",
              "       [0.        , 0.        , 0.        , 0.        , 0.        ,\n",
              "        0.        , 0.        , 0.        , 0.        , 0.        ,\n",
              "        0.        , 0.        , 0.        , 0.        , 0.        ,\n",
              "        0.        , 0.        , 0.        , 0.        , 0.        ,\n",
              "        0.        , 0.        , 0.        , 0.        , 0.        ,\n",
              "        0.        , 0.        , 0.        ],\n",
              "       [0.        , 0.        , 0.        , 0.        , 0.        ,\n",
              "        0.        , 0.        , 0.        , 0.        , 0.        ,\n",
              "        0.        , 0.        , 0.        , 0.        , 0.        ,\n",
              "        0.        , 0.        , 0.        , 0.        , 0.        ,\n",
              "        0.        , 0.        , 0.        , 0.        , 0.        ,\n",
              "        0.        , 0.        , 0.        ],\n",
              "       [0.        , 0.        , 0.        , 0.        , 0.        ,\n",
              "        0.        , 0.        , 0.        , 0.        , 0.        ,\n",
              "        0.        , 0.        , 0.        , 0.        , 0.        ,\n",
              "        0.        , 0.        , 0.        , 0.48627451, 0.99215686,\n",
              "        1.        , 0.24705882, 0.        , 0.        , 0.        ,\n",
              "        0.        , 0.        , 0.        ],\n",
              "       [0.        , 0.        , 0.        , 0.        , 0.        ,\n",
              "        0.        , 0.        , 0.        , 0.        , 0.        ,\n",
              "        0.        , 0.        , 0.        , 0.        , 0.        ,\n",
              "        0.        , 0.        , 0.37647059, 0.95686275, 0.98431373,\n",
              "        0.99215686, 0.24313725, 0.        , 0.        , 0.        ,\n",
              "        0.        , 0.        , 0.        ],\n",
              "       [0.        , 0.        , 0.        , 0.        , 0.        ,\n",
              "        0.        , 0.        , 0.        , 0.        , 0.        ,\n",
              "        0.        , 0.        , 0.        , 0.        , 0.        ,\n",
              "        0.        , 0.        , 0.49803922, 0.98431373, 0.98431373,\n",
              "        0.99215686, 0.24313725, 0.        , 0.        , 0.        ,\n",
              "        0.        , 0.        , 0.        ],\n",
              "       [0.        , 0.        , 0.        , 0.        , 0.        ,\n",
              "        0.        , 0.        , 0.        , 0.        , 0.        ,\n",
              "        0.        , 0.        , 0.        , 0.        , 0.        ,\n",
              "        0.        , 0.26666667, 0.9254902 , 0.98431373, 0.82745098,\n",
              "        0.12156863, 0.03137255, 0.        , 0.        , 0.        ,\n",
              "        0.        , 0.        , 0.        ],\n",
              "       [0.        , 0.        , 0.        , 0.        , 0.        ,\n",
              "        0.        , 0.        , 0.        , 0.        , 0.        ,\n",
              "        0.        , 0.        , 0.        , 0.        , 0.        ,\n",
              "        0.23529412, 0.89411765, 0.98431373, 0.98431373, 0.36862745,\n",
              "        0.        , 0.        , 0.        , 0.        , 0.        ,\n",
              "        0.        , 0.        , 0.        ],\n",
              "       [0.        , 0.        , 0.        , 0.        , 0.        ,\n",
              "        0.        , 0.        , 0.        , 0.        , 0.        ,\n",
              "        0.        , 0.        , 0.        , 0.        , 0.        ,\n",
              "        0.60784314, 0.99215686, 0.99215686, 0.74117647, 0.        ,\n",
              "        0.        , 0.        , 0.        , 0.        , 0.        ,\n",
              "        0.        , 0.        , 0.        ],\n",
              "       [0.        , 0.        , 0.        , 0.        , 0.        ,\n",
              "        0.        , 0.        , 0.        , 0.        , 0.        ,\n",
              "        0.        , 0.        , 0.        , 0.        , 0.07843137,\n",
              "        0.99215686, 0.98431373, 0.92156863, 0.25882353, 0.        ,\n",
              "        0.        , 0.        , 0.        , 0.        , 0.        ,\n",
              "        0.        , 0.        , 0.        ],\n",
              "       [0.        , 0.        , 0.        , 0.        , 0.        ,\n",
              "        0.        , 0.        , 0.        , 0.        , 0.        ,\n",
              "        0.        , 0.        , 0.        , 0.1254902 , 0.80392157,\n",
              "        0.99215686, 0.98431373, 0.49411765, 0.        , 0.        ,\n",
              "        0.        , 0.        , 0.        , 0.        , 0.        ,\n",
              "        0.        , 0.        , 0.        ],\n",
              "       [0.        , 0.        , 0.        , 0.        , 0.        ,\n",
              "        0.        , 0.        , 0.        , 0.        , 0.        ,\n",
              "        0.        , 0.        , 0.        , 0.40784314, 0.98431373,\n",
              "        0.99215686, 0.72156863, 0.05882353, 0.        , 0.        ,\n",
              "        0.        , 0.        , 0.        , 0.        , 0.        ,\n",
              "        0.        , 0.        , 0.        ],\n",
              "       [0.        , 0.        , 0.        , 0.        , 0.        ,\n",
              "        0.        , 0.        , 0.        , 0.        , 0.        ,\n",
              "        0.        , 0.        , 0.31372549, 0.94117647, 0.98431373,\n",
              "        0.75686275, 0.09019608, 0.        , 0.        , 0.        ,\n",
              "        0.        , 0.        , 0.        , 0.        , 0.        ,\n",
              "        0.        , 0.        , 0.        ],\n",
              "       [0.        , 0.        , 0.        , 0.        , 0.        ,\n",
              "        0.        , 0.        , 0.        , 0.        , 0.        ,\n",
              "        0.        , 0.1254902 , 0.99215686, 0.99215686, 0.99215686,\n",
              "        0.62352941, 0.        , 0.        , 0.        , 0.        ,\n",
              "        0.        , 0.        , 0.        , 0.        , 0.        ,\n",
              "        0.        , 0.        , 0.        ],\n",
              "       [0.        , 0.        , 0.        , 0.        , 0.        ,\n",
              "        0.        , 0.        , 0.        , 0.        , 0.        ,\n",
              "        0.        , 0.59215686, 0.98431373, 0.98431373, 0.98431373,\n",
              "        0.15294118, 0.        , 0.        , 0.        , 0.        ,\n",
              "        0.        , 0.        , 0.        , 0.        , 0.        ,\n",
              "        0.        , 0.        , 0.        ],\n",
              "       [0.        , 0.        , 0.        , 0.        , 0.        ,\n",
              "        0.        , 0.        , 0.        , 0.        , 0.        ,\n",
              "        0.18823529, 0.86666667, 0.98431373, 0.98431373, 0.6745098 ,\n",
              "        0.        , 0.        , 0.        , 0.        , 0.        ,\n",
              "        0.        , 0.        , 0.        , 0.        , 0.        ,\n",
              "        0.        , 0.        , 0.        ],\n",
              "       [0.        , 0.        , 0.        , 0.        , 0.        ,\n",
              "        0.        , 0.        , 0.        , 0.        , 0.        ,\n",
              "        0.91764706, 0.98431373, 0.98431373, 0.76862745, 0.04705882,\n",
              "        0.        , 0.        , 0.        , 0.        , 0.        ,\n",
              "        0.        , 0.        , 0.        , 0.        , 0.        ,\n",
              "        0.        , 0.        , 0.        ],\n",
              "       [0.        , 0.        , 0.        , 0.        , 0.        ,\n",
              "        0.        , 0.        , 0.        , 0.        , 0.        ,\n",
              "        0.99215686, 0.98431373, 0.98431373, 0.34901961, 0.        ,\n",
              "        0.        , 0.        , 0.        , 0.        , 0.        ,\n",
              "        0.        , 0.        , 0.        , 0.        , 0.        ,\n",
              "        0.        , 0.        , 0.        ],\n",
              "       [0.        , 0.        , 0.        , 0.        , 0.        ,\n",
              "        0.        , 0.        , 0.        , 0.        , 0.62352941,\n",
              "        1.        , 0.99215686, 0.99215686, 0.12156863, 0.        ,\n",
              "        0.        , 0.        , 0.        , 0.        , 0.        ,\n",
              "        0.        , 0.        , 0.        , 0.        , 0.        ,\n",
              "        0.        , 0.        , 0.        ],\n",
              "       [0.        , 0.        , 0.        , 0.        , 0.        ,\n",
              "        0.        , 0.        , 0.        , 0.18823529, 0.89411765,\n",
              "        0.99215686, 0.96862745, 0.54901961, 0.03137255, 0.        ,\n",
              "        0.        , 0.        , 0.        , 0.        , 0.        ,\n",
              "        0.        , 0.        , 0.        , 0.        , 0.        ,\n",
              "        0.        , 0.        , 0.        ],\n",
              "       [0.        , 0.        , 0.        , 0.        , 0.        ,\n",
              "        0.        , 0.        , 0.        , 0.25098039, 0.98431373,\n",
              "        0.99215686, 0.8627451 , 0.        , 0.        , 0.        ,\n",
              "        0.        , 0.        , 0.        , 0.        , 0.        ,\n",
              "        0.        , 0.        , 0.        , 0.        , 0.        ,\n",
              "        0.        , 0.        , 0.        ],\n",
              "       [0.        , 0.        , 0.        , 0.        , 0.        ,\n",
              "        0.        , 0.        , 0.        , 0.25098039, 0.98431373,\n",
              "        0.99215686, 0.8627451 , 0.        , 0.        , 0.        ,\n",
              "        0.        , 0.        , 0.        , 0.        , 0.        ,\n",
              "        0.        , 0.        , 0.        , 0.        , 0.        ,\n",
              "        0.        , 0.        , 0.        ],\n",
              "       [0.        , 0.        , 0.        , 0.        , 0.        ,\n",
              "        0.        , 0.        , 0.        , 0.09411765, 0.75686275,\n",
              "        0.99215686, 0.8627451 , 0.        , 0.        , 0.        ,\n",
              "        0.        , 0.        , 0.        , 0.        , 0.        ,\n",
              "        0.        , 0.        , 0.        , 0.        , 0.        ,\n",
              "        0.        , 0.        , 0.        ],\n",
              "       [0.        , 0.        , 0.        , 0.        , 0.        ,\n",
              "        0.        , 0.        , 0.        , 0.        , 0.        ,\n",
              "        0.        , 0.        , 0.        , 0.        , 0.        ,\n",
              "        0.        , 0.        , 0.        , 0.        , 0.        ,\n",
              "        0.        , 0.        , 0.        , 0.        , 0.        ,\n",
              "        0.        , 0.        , 0.        ],\n",
              "       [0.        , 0.        , 0.        , 0.        , 0.        ,\n",
              "        0.        , 0.        , 0.        , 0.        , 0.        ,\n",
              "        0.        , 0.        , 0.        , 0.        , 0.        ,\n",
              "        0.        , 0.        , 0.        , 0.        , 0.        ,\n",
              "        0.        , 0.        , 0.        , 0.        , 0.        ,\n",
              "        0.        , 0.        , 0.        ],\n",
              "       [0.        , 0.        , 0.        , 0.        , 0.        ,\n",
              "        0.        , 0.        , 0.        , 0.        , 0.        ,\n",
              "        0.        , 0.        , 0.        , 0.        , 0.        ,\n",
              "        0.        , 0.        , 0.        , 0.        , 0.        ,\n",
              "        0.        , 0.        , 0.        , 0.        , 0.        ,\n",
              "        0.        , 0.        , 0.        ]])"
            ]
          },
          "metadata": {},
          "execution_count": 17
        }
      ]
    },
    {
      "cell_type": "markdown",
      "source": [
        "- The given input is `2d` we have to flatten in to convert it into `1d`\n",
        "- The `Flatten` method in tenseorflow is used to bring rows side by side.\n",
        "- 'Flatten` converts higher dimensional data into `1d`.\n",
        "\n",
        "Eg.\n",
        "\n",
        "Given input is 28*28\n",
        "\n",
        "              - 28 rows and 28 columns\n",
        "When we use `Flatten` it converts rows and columns into single value i.e\n",
        "`28*28 = 784`"
      ],
      "metadata": {
        "id": "LpYkw2xeC8xL"
      }
    },
    {
      "cell_type": "code",
      "source": [
        "model = Sequential()\n",
        "\n",
        "model.add(Flatten(input_shape = (28,28)))\n",
        "model.add(Dense(128,activation = 'relu'))\n",
        "model.add(Dense(32,activation = 'relu'))\n",
        "model.add(Dense(10,activation = 'softmax'))"
      ],
      "metadata": {
        "id": "A-XiULP2CWbH"
      },
      "execution_count": 30,
      "outputs": []
    },
    {
      "cell_type": "code",
      "source": [
        "model.summary()"
      ],
      "metadata": {
        "colab": {
          "base_uri": "https://localhost:8080/"
        },
        "id": "nGms5xsrFAQz",
        "outputId": "43ad3c9c-1e34-4167-8811-ba4eb90ed15f"
      },
      "execution_count": 31,
      "outputs": [
        {
          "output_type": "stream",
          "name": "stdout",
          "text": [
            "Model: \"sequential_1\"\n",
            "_________________________________________________________________\n",
            " Layer (type)                Output Shape              Param #   \n",
            "=================================================================\n",
            " flatten_1 (Flatten)         (None, 784)               0         \n",
            "                                                                 \n",
            " dense_2 (Dense)             (None, 128)               100480    \n",
            "                                                                 \n",
            " dense_3 (Dense)             (None, 32)                4128      \n",
            "                                                                 \n",
            " dense_4 (Dense)             (None, 10)                330       \n",
            "                                                                 \n",
            "=================================================================\n",
            "Total params: 104,938\n",
            "Trainable params: 104,938\n",
            "Non-trainable params: 0\n",
            "_________________________________________________________________\n"
          ]
        }
      ]
    },
    {
      "cell_type": "code",
      "source": [
        "model.compile(loss = 'sparse_categorical_crossentropy', optimizer = 'Adam')"
      ],
      "metadata": {
        "id": "ZDKid__JFCor"
      },
      "execution_count": 40,
      "outputs": []
    },
    {
      "cell_type": "code",
      "source": [
        "history = model.fit(X_train,y_train,epochs = 25,validation_split = 0.2)"
      ],
      "metadata": {
        "colab": {
          "base_uri": "https://localhost:8080/"
        },
        "id": "Z4iueu0gFvHS",
        "outputId": "36dd6f7f-84a1-45ee-dadd-e83eec1eb750"
      },
      "execution_count": 41,
      "outputs": [
        {
          "output_type": "stream",
          "name": "stdout",
          "text": [
            "Epoch 1/25\n",
            "1500/1500 [==============================] - 10s 6ms/step - loss: 0.0096 - val_loss: 0.1757\n",
            "Epoch 2/25\n",
            "1500/1500 [==============================] - 8s 5ms/step - loss: 0.0073 - val_loss: 0.1725\n",
            "Epoch 3/25\n",
            "1500/1500 [==============================] - 9s 6ms/step - loss: 0.0086 - val_loss: 0.1682\n",
            "Epoch 4/25\n",
            "1500/1500 [==============================] - 8s 6ms/step - loss: 0.0061 - val_loss: 0.1892\n",
            "Epoch 5/25\n",
            "1500/1500 [==============================] - 7s 5ms/step - loss: 0.0117 - val_loss: 0.1812\n",
            "Epoch 6/25\n",
            "1500/1500 [==============================] - 9s 6ms/step - loss: 0.0073 - val_loss: 0.1712\n",
            "Epoch 7/25\n",
            "1500/1500 [==============================] - 9s 6ms/step - loss: 0.0066 - val_loss: 0.1795\n",
            "Epoch 8/25\n",
            "1500/1500 [==============================] - 8s 5ms/step - loss: 0.0077 - val_loss: 0.1999\n",
            "Epoch 9/25\n",
            "1500/1500 [==============================] - 9s 6ms/step - loss: 0.0059 - val_loss: 0.2070\n",
            "Epoch 10/25\n",
            "1500/1500 [==============================] - 9s 6ms/step - loss: 0.0072 - val_loss: 0.1825\n",
            "Epoch 11/25\n",
            "1500/1500 [==============================] - 8s 5ms/step - loss: 0.0075 - val_loss: 0.1887\n",
            "Epoch 12/25\n",
            "1500/1500 [==============================] - 10s 6ms/step - loss: 0.0062 - val_loss: 0.1809\n",
            "Epoch 13/25\n",
            "1500/1500 [==============================] - 9s 6ms/step - loss: 0.0078 - val_loss: 0.1745\n",
            "Epoch 14/25\n",
            "1500/1500 [==============================] - 9s 6ms/step - loss: 0.0067 - val_loss: 0.1920\n",
            "Epoch 15/25\n",
            "1500/1500 [==============================] - 11s 7ms/step - loss: 0.0075 - val_loss: 0.1979\n",
            "Epoch 16/25\n",
            "1500/1500 [==============================] - 9s 6ms/step - loss: 0.0062 - val_loss: 0.1981\n",
            "Epoch 17/25\n",
            "1500/1500 [==============================] - 8s 5ms/step - loss: 0.0070 - val_loss: 0.1986\n",
            "Epoch 18/25\n",
            "1500/1500 [==============================] - 9s 6ms/step - loss: 0.0050 - val_loss: 0.2230\n",
            "Epoch 19/25\n",
            "1500/1500 [==============================] - 9s 6ms/step - loss: 0.0058 - val_loss: 0.2275\n",
            "Epoch 20/25\n",
            "1500/1500 [==============================] - 7s 5ms/step - loss: 0.0066 - val_loss: 0.2033\n",
            "Epoch 21/25\n",
            "1500/1500 [==============================] - 9s 6ms/step - loss: 0.0053 - val_loss: 0.2129\n",
            "Epoch 22/25\n",
            "1500/1500 [==============================] - 8s 6ms/step - loss: 0.0067 - val_loss: 0.1999\n",
            "Epoch 23/25\n",
            "1500/1500 [==============================] - 8s 5ms/step - loss: 0.0049 - val_loss: 0.2121\n",
            "Epoch 24/25\n",
            "1500/1500 [==============================] - 9s 6ms/step - loss: 0.0064 - val_loss: 0.2176\n",
            "Epoch 25/25\n",
            "1500/1500 [==============================] - 9s 6ms/step - loss: 0.0036 - val_loss: 0.2021\n"
          ]
        }
      ]
    },
    {
      "cell_type": "code",
      "source": [
        "y_prob = model.predict(X_test)"
      ],
      "metadata": {
        "colab": {
          "base_uri": "https://localhost:8080/"
        },
        "id": "F9M8WnEnF7gb",
        "outputId": "6c808e84-eb24-4995-aeec-0bfd89675eec"
      },
      "execution_count": 42,
      "outputs": [
        {
          "output_type": "stream",
          "name": "stdout",
          "text": [
            "313/313 [==============================] - 1s 2ms/step\n"
          ]
        }
      ]
    },
    {
      "cell_type": "code",
      "source": [
        "y_pred = y_prob.argmax(axis = 1)"
      ],
      "metadata": {
        "id": "bTapSoT3GWya"
      },
      "execution_count": 43,
      "outputs": []
    },
    {
      "cell_type": "code",
      "source": [
        "from sklearn.metrics import accuracy_score\n",
        "accuracy_score(y_test,y_pred)"
      ],
      "metadata": {
        "colab": {
          "base_uri": "https://localhost:8080/"
        },
        "id": "stC8vIjzH_fr",
        "outputId": "27e7a80b-460f-4cf6-fe74-f701ea698bb6"
      },
      "execution_count": 44,
      "outputs": [
        {
          "output_type": "execute_result",
          "data": {
            "text/plain": [
              "0.9809"
            ]
          },
          "metadata": {},
          "execution_count": 44
        }
      ]
    },
    {
      "cell_type": "code",
      "source": [
        "plt.plot(history.history['loss'])\n",
        "plt.plot(history.history['val_loss'])"
      ],
      "metadata": {
        "colab": {
          "base_uri": "https://localhost:8080/",
          "height": 447
        },
        "id": "i-VZNpXEIaPB",
        "outputId": "e63e4a0d-195b-48e5-a7ab-2ef74a4d6d6b"
      },
      "execution_count": 48,
      "outputs": [
        {
          "output_type": "execute_result",
          "data": {
            "text/plain": [
              "[<matplotlib.lines.Line2D at 0x7f2564288f70>]"
            ]
          },
          "metadata": {},
          "execution_count": 48
        },
        {
          "output_type": "display_data",
          "data": {
            "text/plain": [
              "<Figure size 640x480 with 1 Axes>"
            ],
            "image/png": "[encoded data removed]"
          },
          "metadata": {}
        }
      ]
    },
    {
      "cell_type": "code",
      "source": [
        "history.history"
      ],
      "metadata": {
        "colab": {
          "base_uri": "https://localhost:8080/"
        },
        "id": "vvtVDO64MEXK",
        "outputId": "75c0349d-8ae5-45a7-9f79-78d6e7f38f2a"
      },
      "execution_count": 47,
      "outputs": [
        {
          "output_type": "execute_result",
          "data": {
            "text/plain": [
              "{'loss': [0.009598016738891602,\n",
              "  0.007257132790982723,\n",
              "  0.008580993860960007,\n",
              "  0.006104324944317341,\n",
              "  0.011731773614883423,\n",
              "  0.007329855114221573,\n",
              "  0.006635897792875767,\n",
              "  0.007652199361473322,\n",
              "  0.005880948156118393,\n",
              "  0.007205863483250141,\n",
              "  0.007479384075850248,\n",
              "  0.006156647577881813,\n",
              "  0.007820403203368187,\n",
              "  0.006691309157758951,\n",
              "  0.007504675537347794,\n",
              "  0.006216663401573896,\n",
              "  0.006981916259974241,\n",
              "  0.005026218947023153,\n",
              "  0.00576791213825345,\n",
              "  0.0065657696686685085,\n",
              "  0.005262769293040037,\n",
              "  0.006713254377245903,\n",
              "  0.004923920147120953,\n",
              "  0.006385253742337227,\n",
              "  0.003608071943745017],\n",
              " 'val_loss': [0.17568786442279816,\n",
              "  0.1724545657634735,\n",
              "  0.16816911101341248,\n",
              "  0.18922746181488037,\n",
              "  0.18122217059135437,\n",
              "  0.17122788727283478,\n",
              "  0.17948123812675476,\n",
              "  0.19989928603172302,\n",
              "  0.20703282952308655,\n",
              "  0.1825072169303894,\n",
              "  0.18871034681797028,\n",
              "  0.18089522421360016,\n",
              "  0.17447751760482788,\n",
              "  0.1920027881860733,\n",
              "  0.19793404638767242,\n",
              "  0.1980905830860138,\n",
              "  0.19857531785964966,\n",
              "  0.22302475571632385,\n",
              "  0.22745320200920105,\n",
              "  0.20326794683933258,\n",
              "  0.21290333569049835,\n",
              "  0.1999477595090866,\n",
              "  0.21208538115024567,\n",
              "  0.21761031448841095,\n",
              "  0.20206433534622192]}"
            ]
          },
          "metadata": {},
          "execution_count": 47
        }
      ]
    },
    {
      "cell_type": "code",
      "source": [
        "plt.imshow(X_test[0])"
      ],
      "metadata": {
        "colab": {
          "base_uri": "https://localhost:8080/",
          "height": 447
        },
        "id": "KzsdkiHPKIBz",
        "outputId": "79505f4b-ad66-4973-dee8-9b031994f34e"
      },
      "execution_count": 49,
      "outputs": [
        {
          "output_type": "execute_result",
          "data": {
            "text/plain": [
              "<matplotlib.image.AxesImage at 0x7f25640dad30>"
            ]
          },
          "metadata": {},
          "execution_count": 49
        },
        {
          "output_type": "display_data",
          "data": {
            "text/plain": [
              "<Figure size 640x480 with 1 Axes>"
            ],
            "image/png": "[encoded data removed]"
          },
          "metadata": {}
        }
      ]
    },
    {
      "cell_type": "code",
      "source": [
        "model.predict(X_test[0].reshape(1,28,28)).argmax(axis = 1)"
      ],
      "metadata": {
        "colab": {
          "base_uri": "https://localhost:8080/"
        },
        "id": "Ye5Y6hKYMg0e",
        "outputId": "9698da33-c009-42ff-fe51-da0a5ac807c5"
      },
      "execution_count": 53,
      "outputs": [
        {
          "output_type": "stream",
          "name": "stdout",
          "text": [
            "1/1 [==============================] - 0s 87ms/step\n"
          ]
        },
        {
          "output_type": "execute_result",
          "data": {
            "text/plain": [
              "array([7])"
            ]
          },
          "metadata": {},
          "execution_count": 53
        }
      ]
    },
    {
      "cell_type": "code",
      "source": [
        "model.predict(X_test[3].reshape(1,28,28)).argmax(axis = 1)"
      ],
      "metadata": {
        "colab": {
          "base_uri": "https://localhost:8080/"
        },
        "id": "uR8vi8XcM7tM",
        "outputId": "b4f3b4be-7d01-4d10-f022-8d43ea8a9137"
      },
      "execution_count": 54,
      "outputs": [
        {
          "output_type": "stream",
          "name": "stdout",
          "text": [
            "1/1 [==============================] - 0s 23ms/step\n"
          ]
        },
        {
          "output_type": "execute_result",
          "data": {
            "text/plain": [
              "array([0])"
            ]
          },
          "metadata": {},
          "execution_count": 54
        }
      ]
    }
  ]
}